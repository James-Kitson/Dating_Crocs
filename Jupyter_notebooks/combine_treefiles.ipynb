{
 "cells": [
  {
   "cell_type": "markdown",
   "metadata": {
    "collapsed": false
   },
   "source": [
    "**MCC Tree selection from MrBayes files**\n",
    "\n",
    "The following code will take your MrBayes tree files read a specified number of lines which covers the taxablock (in this case [:117]) and then write the last 75% of your trees from each tree file to the same file (specified by gen >= 10000000 for a 40000000 generation analysis like this one) The resulting files can be run through [TreeAnnotator (part of the BEAST package)](http://beast.bio.ed.ac.uk/downloads) to select MCC trees for character reconstruction, biogeography etc."
   ]
  },
  {
   "cell_type": "markdown",
   "metadata": {},
   "source": [
    "**Code with paths for calibrated trees**"
   ]
  },
  {
   "cell_type": "code",
   "execution_count": null,
   "metadata": {
    "collapsed": true
   },
   "outputs": [],
   "source": [
    "hndl = open('../Data/MrBayes_Output/tree_files/calibrated_tree_files/combined_calibrated_trees.nex','wt')\n",
    "\n",
    "lines = open('../Data/MrBayes_Output/tree_files/calibrated_tree_files/MrBayes_calibrated_Thalattosuchia_March2016.nex.run1.t','r').readlines()[:117]\n",
    "for l in lines:\n",
    "    hndl.write(l)\n",
    "    print l\n",
    "    \n",
    "from glob import glob\n",
    "\n",
    "for f in glob('../Data/MrBayes_Output/tree_files/calibrated_tree_files/MrBayes_calibrated_Thalattosuchia_March2016.nex.run*'):\n",
    "    with open(f,'r') as lines:\n",
    "        for l in lines:\n",
    "            if l.startswith('   tree '):\n",
    "                gen = int(l.split('.')[1].split('[')[0])\n",
    "                if gen >= 10000000:\n",
    "                    hndl.write(l)   \n",
    "                    \n",
    "hndl.write('end;\\n')\n",
    "hndl.close()   "
   ]
  },
  {
   "cell_type": "markdown",
   "metadata": {},
   "source": [
    "**Code with paths for uncalibrated trees**"
   ]
  },
  {
   "cell_type": "code",
   "execution_count": null,
   "metadata": {
    "collapsed": false
   },
   "outputs": [],
   "source": [
    "hndl = open('../Data/MrBayes_Output/tree_files/uncalibrated_tree_files/combined_uncalibrated_trees.nex','wt')\n",
    "\n",
    "lines = open('../Data/MrBayes_Output/tree_files/uncalibrated_tree_files/MrBayes_uncalibrated_Thalattosuchia_March2016.nex.run1.t','r').readlines()[:117]\n",
    "for l in lines:\n",
    "    hndl.write(l)\n",
    "    print l\n",
    "    \n",
    "from glob import glob\n",
    "\n",
    "for f in glob('../Data/MrBayes_Output/tree_files/uncalibrated_tree_files/MrBayes_uncalibrated_Thalattosuchia_March2016.nex.run*'):\n",
    "    with open(f,'r') as lines:\n",
    "        for l in lines:\n",
    "            if l.startswith('   tree '):\n",
    "                gen = int(l.split('.')[1].split('[')[0])\n",
    "                if gen >= 10000000:\n",
    "                    hndl.write(l)   \n",
    "                    \n",
    "hndl.write('end;\\n')\n",
    "hndl.close()        "
   ]
  }
 ],
 "metadata": {
  "kernelspec": {
   "display_name": "Python 2",
   "language": "python",
   "name": "python2"
  },
  "language_info": {
   "codemirror_mode": {
    "name": "ipython",
    "version": 2
   },
   "file_extension": ".py",
   "mimetype": "text/x-python",
   "name": "python",
   "nbconvert_exporter": "python",
   "pygments_lexer": "ipython2",
   "version": "2.7.11"
  }
 },
 "nbformat": 4,
 "nbformat_minor": 0
}
